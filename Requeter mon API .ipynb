{
 "cells": [
  {
   "cell_type": "code",
   "execution_count": 89,
   "metadata": {},
   "outputs": [],
   "source": [
    "import requests"
   ]
  },
  {
   "cell_type": "code",
   "execution_count": 90,
   "metadata": {},
   "outputs": [
    {
     "output_type": "execute_result",
     "data": {
      "text/plain": "{&#39;text_user&#39;: &#39;Je suis vraiment content de cet article&#39;}"
     },
     "metadata": {},
     "execution_count": 90
    }
   ],
   "source": [
    "route='/result'\n",
    "url='http://127.0.0.1:5000'+route\n",
    "\n",
    "param={'input_text':'Je suis vraiment content de cet article'}\n",
    "r=requests.post(url,data=param)\n",
    "r.json()"
   ]
  },
  {
   "source": [
    "Entrainement de la machine"
   ],
   "cell_type": "markdown",
   "metadata": {}
  },
  {
   "cell_type": "code",
   "execution_count": 91,
   "metadata": {},
   "outputs": [
    {
     "output_type": "execute_result",
     "data": {
      "text/plain": "{&#39;Fiabilité de la machine&#39;: &#39;0.802547770700637&#39;}"
     },
     "metadata": {},
     "execution_count": 91
    }
   ],
   "source": [
    "route='/training'\n",
    "url='http://127.0.0.1:5000'+route\n",
    "\n",
    "r=requests.get(url)\n",
    "r.json()"
   ]
  },
  {
   "source": [
    "Prediction graĉe à la machine entrainée \n",
    "\n",
    "\n",
    "Testons un avis négatif"
   ],
   "cell_type": "markdown",
   "metadata": {}
  },
  {
   "cell_type": "code",
   "execution_count": 92,
   "metadata": {},
   "outputs": [
    {
     "output_type": "execute_result",
     "data": {
      "text/plain": "{&#39;Fiabilité de la machine&#39;: &#39;0.8407643312101911&#39;}"
     },
     "metadata": {},
     "execution_count": 92
    }
   ],
   "source": [
    "route='/training'\n",
    "url='http://127.0.0.1:5000'+route\n",
    "\n",
    "r=requests.get(url)\n",
    "r.json()"
   ]
  },
  {
   "cell_type": "code",
   "execution_count": 93,
   "metadata": {},
   "outputs": [
    {
     "output_type": "execute_result",
     "data": {
      "text/plain": "{&#39;Résultat&#39;: &#39;Avis Négatif&#39;,\n &#39;pourcentage de fiabilité&#39;: 80.0684867875708,\n &#39;text_user&#39;: &#39;mauvais , déçu&#39;}"
     },
     "metadata": {},
     "execution_count": 93
    }
   ],
   "source": [
    "\n",
    "route='/predict'\n",
    "url='http://127.0.0.1:5000'+route\n",
    "\n",
    "param={'input_text':'mauvais , déçu'}\n",
    "r=requests.post(url,data=param)\n",
    "r.json()"
   ]
  },
  {
   "source": [
    "Testons un avis positif"
   ],
   "cell_type": "markdown",
   "metadata": {}
  },
  {
   "cell_type": "code",
   "execution_count": 94,
   "metadata": {},
   "outputs": [
    {
     "output_type": "execute_result",
     "data": {
      "text/plain": "{&#39;Résultat&#39;: &#39;Avis Positif&#39;,\n &#39;pourcentage de fiabilité&#39;: 70.77851619075975,\n &#39;text_user&#39;: &#39;excellent parfait génial énorme&#39;}"
     },
     "metadata": {},
     "execution_count": 94
    }
   ],
   "source": [
    "\n",
    "route='/predict'\n",
    "url='http://127.0.0.1:5000'+route\n",
    "\n",
    "param={'input_text':'excellent parfait génial énorme'}\n",
    "r=requests.post(url,data=param)\n",
    "r.json()"
   ]
  },
  {
   "cell_type": "code",
   "execution_count": null,
   "metadata": {},
   "outputs": [],
   "source": []
  }
 ],
 "metadata": {
  "kernelspec": {
   "display_name": "Python 3",
   "language": "python",
   "name": "python3"
  },
  "language_info": {
   "codemirror_mode": {
    "name": "ipython",
    "version": 3
   },
   "file_extension": ".py",
   "mimetype": "text/x-python",
   "name": "python",
   "nbconvert_exporter": "python",
   "pygments_lexer": "ipython3",
   "version": "3.8.3-final"
  }
 },
 "nbformat": 4,
 "nbformat_minor": 2
}